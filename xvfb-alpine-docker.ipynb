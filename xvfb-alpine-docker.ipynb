{
 "cells": [
  {
   "cell_type": "markdown",
   "metadata": {},
   "source": [
    "[FROM HERE](https://github.com/drcrane/xvfb-alpine-docker)"
   ]
  },
  {
   "cell_type": "code",
   "execution_count": 1,
   "metadata": {
    "vscode": {
     "languageId": "shellscript"
    }
   },
   "outputs": [],
   "source": [
    "# org Dockerfile from repo\n",
    "\n",
    "```bash\n",
    "# on Jan 26, 2019\n",
    "cat <<EOF >Dockerfile_org_from_repo\n",
    "FROM alpine:3.8\n",
    "\n",
    "RUN apk update\n",
    "\n",
    "RUN adduser -D -g users user\n",
    "RUN mkdir -p /home/user \\\n",
    "\t&& chown user:users /home/user\n",
    "\n",
    "RUN apk add xvfb x11vnc fluxbox xdpyinfo st vim terminus-font \\\n",
    "\t&& sed -r -i \"s/\\[exec\\] \\(xterm\\) \\{xterm\\}/\\[exec\\] \\(st\\) \\{st -f 'xos4 Terminus-14'\\}/\" /usr/share/fluxbox/menu \\\n",
    "\t&& [[ ! -d /opt ]] && mkdir /opt \\\n",
    "\t&& rm -vrf /var/cache/apk/*\n",
    "\n",
    "COPY bootstrap.sh /opt\n",
    "\n",
    "USER user\n",
    "ENV HOME /home/user\n",
    "WORKDIR /home/user\n",
    "CMD [\"/opt/bootstrap.sh\"]\n",
    "EOF"
   ]
  },
  {
   "cell_type": "markdown",
   "metadata": {},
   "source": [
    "# build"
   ]
  },
  {
   "cell_type": "code",
   "execution_count": null,
   "metadata": {
    "vscode": {
     "languageId": "shellscript"
    }
   },
   "outputs": [],
   "source": [
    "docker build --tag alpine-xvfb:beta1 Dockerfile_org_from_repo"
   ]
  },
  {
   "cell_type": "markdown",
   "metadata": {},
   "source": [
    "# update alpine version"
   ]
  },
  {
   "cell_type": "code",
   "execution_count": null,
   "metadata": {
    "vscode": {
     "languageId": "shellscript"
    }
   },
   "outputs": [],
   "source": [
    "```bash\n",
    "# on Jan 26, 2019\n",
    "cat <<EOF >Dockerfile\n",
    "FROM alpine:3.18.5 \n",
    "\n",
    "RUN apk update\n",
    "\n",
    "RUN adduser -D -g users user\n",
    "RUN mkdir -p /home/user \\\n",
    "\t&& chown user:users /home/user\n",
    "\n",
    "RUN apk add xvfb x11vnc fluxbox xdpyinfo st vim terminus-font \\\n",
    "\t&& sed -r -i \"s/\\[exec\\] \\(xterm\\) \\{xterm\\}/\\[exec\\] \\(st\\) \\{st -f 'xos4 Terminus-14'\\}/\" /usr/share/fluxbox/menu \\\n",
    "\t&& [[ ! -d /opt ]] && mkdir /opt \\\n",
    "\t&& rm -vrf /var/cache/apk/*\n",
    "\n",
    "COPY bootstrap.sh /opt\n",
    "\n",
    "USER user\n",
    "ENV HOME /home/user\n",
    "WORKDIR /home/user\n",
    "CMD [\"/opt/bootstrap.sh\"]\n",
    "EOF"
   ]
  },
  {
   "cell_type": "markdown",
   "metadata": {},
   "source": [
    "# build"
   ]
  },
  {
   "cell_type": "code",
   "execution_count": null,
   "metadata": {
    "vscode": {
     "languageId": "shellscript"
    }
   },
   "outputs": [],
   "source": [
    "docker build --tag alpine-xvfb:latest ."
   ]
  },
  {
   "cell_type": "markdown",
   "metadata": {},
   "source": [
    "# run"
   ]
  },
  {
   "cell_type": "code",
   "execution_count": null,
   "metadata": {
    "vscode": {
     "languageId": "shellscript"
    }
   },
   "outputs": [],
   "source": [
    "docker run --rm -it alpine-xvfb:latest"
   ]
  }
 ],
 "metadata": {
  "kernelspec": {
   "display_name": "Bash",
   "language": "bash",
   "name": "bash"
  },
  "language_info": {
   "codemirror_mode": "shell",
   "file_extension": ".sh",
   "mimetype": "text/x-sh",
   "name": "bash"
  }
 },
 "nbformat": 4,
 "nbformat_minor": 2
}
