{
 "cells": [
  {
   "cell_type": "markdown",
   "metadata": {},
   "source": [
    "[FROM HERE](https://github.com/drcrane/xvfb-alpine-docker)\n"
   ]
  },
  {
   "cell_type": "code",
   "execution_count": null,
   "metadata": {
    "vscode": {
     "languageId": "shellscript"
    }
   },
   "outputs": [],
   "source": [
    "# org Dockerfile from repo\n",
    "\n",
    "```bash\n",
    "# on Jan 26, 2019\n",
    "cat <<EOF >Dockerfile_org_from_repo\n",
    "FROM alpine:3.8\n",
    "\n",
    "RUN apk update\n",
    "\n",
    "RUN adduser -D -g users user\n",
    "RUN mkdir -p /home/user \\\n",
    "\t&& chown user:users /home/user\n",
    "\n",
    "RUN apk add xvfb x11vnc fluxbox xdpyinfo st vim terminus-font \\\n",
    "\t&& sed -r -i \"s/\\[exec\\] \\(xterm\\) \\{xterm\\}/\\[exec\\] \\(st\\) \\{st -f 'xos4 Terminus-14'\\}/\" /usr/share/fluxbox/menu \\\n",
    "\t&& [[ ! -d /opt ]] && mkdir /opt \\\n",
    "\t&& rm -vrf /var/cache/apk/*\n",
    "\n",
    "COPY bootstrap.sh /opt\n",
    "\n",
    "USER user\n",
    "ENV HOME /home/user\n",
    "WORKDIR /home/user\n",
    "CMD [\"/opt/bootstrap.sh\"]\n",
    "EOF"
   ]
  },
  {
   "cell_type": "markdown",
   "metadata": {},
   "source": [
    "# build\n"
   ]
  },
  {
   "cell_type": "code",
   "execution_count": null,
   "metadata": {
    "vscode": {
     "languageId": "shellscript"
    }
   },
   "outputs": [],
   "source": [
    "docker build --tag alpine-xvfb:beta1 Dockerfile_org_from_repo"
   ]
  },
  {
   "cell_type": "markdown",
   "metadata": {},
   "source": [
    "# update alpine version\n"
   ]
  },
  {
   "cell_type": "code",
   "execution_count": null,
   "metadata": {
    "vscode": {
     "languageId": "shellscript"
    }
   },
   "outputs": [],
   "source": [
    "```bash\n",
    "# on Jan 26, 2019\n",
    "cat <<EOF >Dockerfile\n",
    "FROM alpine:3.18.5 \n",
    "\n",
    "RUN apk update\n",
    "\n",
    "RUN adduser -D -g users user\n",
    "RUN mkdir -p /home/user \\\n",
    "\t&& chown user:users /home/user\n",
    "\n",
    "RUN apk add xvfb x11vnc fluxbox xdpyinfo st vim terminus-font \\\n",
    "\t&& sed -r -i \"s/\\[exec\\] \\(xterm\\) \\{xterm\\}/\\[exec\\] \\(st\\) \\{st -f 'xos4 Terminus-14'\\}/\" /usr/share/fluxbox/menu \\\n",
    "\t&& [[ ! -d /opt ]] && mkdir /opt \\\n",
    "\t&& rm -vrf /var/cache/apk/*\n",
    "\n",
    "COPY bootstrap.sh /opt\n",
    "\n",
    "USER user\n",
    "ENV HOME /home/user\n",
    "WORKDIR /home/user\n",
    "CMD [\"/opt/bootstrap.sh\"]\n",
    "EOF"
   ]
  },
  {
   "cell_type": "markdown",
   "metadata": {},
   "source": [
    "# build\n"
   ]
  },
  {
   "cell_type": "code",
   "execution_count": null,
   "metadata": {
    "vscode": {
     "languageId": "shellscript"
    }
   },
   "outputs": [],
   "source": [
    "docker build --no-cache --tag alpine-xvfb:latest ."
   ]
  },
  {
   "cell_type": "markdown",
   "metadata": {},
   "source": [
    "# run\n"
   ]
  },
  {
   "cell_type": "code",
   "execution_count": null,
   "metadata": {
    "vscode": {
     "languageId": "shellscript"
    }
   },
   "outputs": [],
   "source": [
    "docker run --rm -it alpine-xvfb:latest"
   ]
  },
  {
   "cell_type": "markdown",
   "metadata": {},
   "source": [
    "# docker container ip\n"
   ]
  },
  {
   "cell_type": "code",
   "execution_count": null,
   "metadata": {
    "vscode": {
     "languageId": "shellscript"
    }
   },
   "outputs": [],
   "source": [
    "docker inspect -f \\\n",
    "'{{range .NetworkSettings.Networks}}{{.IPAddress}}{{end}}' <CONTAINER ID>\n",
    "docker inspect -f \\\n",
    "'{{range .NetworkSettings.Networks}}{{.IPAddress}}{{end}}' ffc7f4bbc880"
   ]
  },
  {
   "cell_type": "markdown",
   "metadata": {},
   "source": [
    "#\n",
    "\n",
    "export DISPLAY=:0\n",
    "xhost +\n",
    "vncviewer 172.17.0.2:0\n"
   ]
  },
  {
   "cell_type": "markdown",
   "metadata": {},
   "source": [
    "# open shell inside container\n"
   ]
  },
  {
   "cell_type": "code",
   "execution_count": null,
   "metadata": {
    "vscode": {
     "languageId": "shellscript"
    }
   },
   "outputs": [],
   "source": [
    "docker  exec -ti  ffc7f4bbc880 /bin/ash"
   ]
  },
  {
   "cell_type": "markdown",
   "metadata": {},
   "source": [
    "# with xeyes\n"
   ]
  },
  {
   "cell_type": "code",
   "execution_count": null,
   "metadata": {
    "vscode": {
     "languageId": "shellscript"
    }
   },
   "outputs": [],
   "source": [
    "```bash\n",
    "# on Dez 2023\n",
    "cat <<EOF >Dockerfile_alpine_xeyes_xterm_htop\n",
    "FROM alpine:3.18.5 \n",
    "\n",
    "RUN apk update\n",
    "\n",
    "RUN adduser -D -g users user\n",
    "RUN mkdir -p /home/user \\\n",
    "\t&& chown user:users /home/user\n",
    "\n",
    "RUN apk add xvfb x11vnc fluxbox xdpyinfo st vim terminus-font xterm xeyes htop \\\n",
    "\t&& sed -r -i \"s/\\[exec\\] \\(xterm\\) \\{xterm\\}/\\[exec\\] \\(st\\) \\{st -f 'xos4 Terminus-14'\\}/\" /usr/share/fluxbox/menu \\\n",
    "\t&& mkdir -p /opt \\\n",
    "\t&& rm -vrf /var/cache/apk/*\n",
    "\n",
    "COPY bootstrap.sh /opt\n",
    "\n",
    "USER user\n",
    "ENV HOME /home/user\n",
    "WORKDIR /home/user\n",
    "CMD [\"sh\",\"/opt/bootstrap.sh\"]\n",
    "EOF"
   ]
  },
  {
   "cell_type": "markdown",
   "metadata": {},
   "source": [
    "# build\n"
   ]
  },
  {
   "cell_type": "code",
   "execution_count": null,
   "metadata": {
    "vscode": {
     "languageId": "shellscript"
    }
   },
   "outputs": [],
   "source": [
    "docker build --no-cache --tag alpine-xvfb-xeyes:latest  -f Dockerfile_alpine_xeyes \".\""
   ]
  },
  {
   "cell_type": "markdown",
   "metadata": {},
   "source": [
    "# run\n"
   ]
  },
  {
   "cell_type": "code",
   "execution_count": null,
   "metadata": {
    "vscode": {
     "languageId": "shellscript"
    }
   },
   "outputs": [],
   "source": [
    "docker run --rm -it alpine-xvfb-xeyes:latest"
   ]
  },
  {
   "cell_type": "markdown",
   "metadata": {},
   "source": [
    "# container id\n"
   ]
  },
  {
   "cell_type": "code",
   "execution_count": null,
   "metadata": {
    "vscode": {
     "languageId": "shellscript"
    }
   },
   "outputs": [],
   "source": [
    "echo $(docker ps --format \"{{.ID}}\"  | cut -d \" \" -f1)"
   ]
  },
  {
   "cell_type": "markdown",
   "metadata": {},
   "source": [
    "# get container ip address\n"
   ]
  },
  {
   "cell_type": "code",
   "execution_count": null,
   "metadata": {
    "vscode": {
     "languageId": "shellscript"
    }
   },
   "outputs": [],
   "source": [
    "# docker inspect -f \\\n",
    "#'{{range .NetworkSettings.Networks}}{{.IPAddress}}{{end}}' <CONTAINER ID>\n",
    "docker inspect -f \\\n",
    "'{{range .NetworkSettings.Networks}}{{.IPAddress}}{{end}}' $(docker ps --format \"{{.ID}}\"  | cut -d \" \" -f1)"
   ]
  },
  {
   "cell_type": "markdown",
   "metadata": {},
   "source": [
    "# start vncviewer\n"
   ]
  },
  {
   "cell_type": "markdown",
   "metadata": {},
   "source": [
    "export DISPLAY=:0\n",
    "xhost +\n",
    "vncviewer <container ip>\n",
    "\n",
    "#\n",
    "\n",
    "export DISPLAY=:0\n",
    "xhost +\n",
    "vncviewer 172.17.0.2:0\n",
    "\n",
    "# all together\n",
    "\n",
    "export DISPLAY=:0\n",
    "xhost +\n",
    "vncviewer $(docker inspect -f \\\n",
    "'{{range .NetworkSettings.Networks}}{{.IPAddress}}{{end}}' $(docker ps --format \"{{.ID}}\" | cut -d \" \" -f1))\n"
   ]
  },
  {
   "cell_type": "markdown",
   "metadata": {},
   "source": [
    "# alpine firefox\n",
    "[TIP FROM HERE THX!!](https://unix.stackexchange.com/questions/731296/alpine-not-installing-latest-package)\n"
   ]
  },
  {
   "cell_type": "markdown",
   "metadata": {},
   "source": [
    "# install rust\n",
    "# FROM HERE\n",
    "# https://hub.docker.com/layers/rustlang/rust/nightly-alpine3.17/images/sha256-3ae253190c5d5bce41e4e17dc44b6fbf2c45f279be1554f676ed7ffa67baad26?context=explore"
   ]
  },
  {
   "cell_type": "markdown",
   "metadata": {},
   "source": [
    "```bash\n",
    "# on Dez 2023\n",
    "cat <<EOF >Dockerfile_alpine_firefox_rust\n",
    "FROM alpine:3.18.5\n",
    "\n",
    "RUN echo @latest https://dl-cdn.alpinelinux.org/alpine/latest-stable/main >> /etc/apk/repositories && \\\n",
    "    echo @latest https://dl-cdn.alpinelinux.org/alpine/latest-stable/community >> /etc/apk/repositories && \\\n",
    "    echo @14.20.1 https://dl-cdn.alpinelinux.org/alpine/v3.14/main >> /etc/apk/repositories\n",
    "\n",
    "# Install dependencies\n",
    "RUN apk --no-cache --update add \\\n",
    "    libsrt@latest \\\n",
    "    chromium@latest \\\n",
    "    firefox@latest\n",
    "\n",
    "RUN adduser -D -g users user\n",
    "\n",
    "RUN mkdir -p /home/user \\\n",
    "\t&& chown user:users /home/user\n",
    "\n",
    "RUN apk update \\\n",
    "\t&& apk add --no-cache --update xvfb x11vnc fluxbox xdpyinfo st vim terminus-font xterm xeyes htop sudo \\\n",
    "\t&& sed -r -i \"s/\\[exec\\] \\(xterm\\) \\{xterm\\}/\\[exec\\] \\(st\\) \\{st -f 'xos4 Terminus-14'\\}/\" /usr/share/fluxbox/menu \\\n",
    "\t&& mkdir -p /opt \\\n",
    "\t&& rm -vrf /var/cache/apk/*\n",
    "\n",
    "# install rust\n",
    "\n",
    "ENV RUSTUP_HOME=/usr/local/rustup CARGO_HOME=/usr/local/cargo PATH=/usr/local/cargo/bin:/usr/local/sbin:/usr/local/bin:/usr/sbin:/usr/bin:/sbin:/bin\n",
    "\n",
    "RUN /bin/sh -c set -eux; \\\n",
    "    apkArch=\"$(apk --print-arch)\"; \\\n",
    "    case \"$apkArch\" in x86_64) rustArch='x86_64-unknown-linux-musl' ;; \\\n",
    "                      aarch64) rustArch='aarch64-unknown-linux-musl' ;; \\\n",
    "                      *) echo >&2 \"unsupported architecture: $apkArch\"; exit 1 ;; \\\n",
    "        esac; \n",
    "\n",
    "COPY bootstrap.sh /opt\n",
    "\n",
    "USER user\n",
    "ENV HOME /home/user\n",
    "WORKDIR /home/user\n",
    "CMD [\"sh\",\"/opt/bootstrap.sh\"]\n",
    "# CMD [\"/bin/sh -c set -eux\",\"/opt/bootstrap.sh\"]\n",
    "\n",
    "EOF\n",
    "\n",
    "```\n"
   ]
  },
  {
   "cell_type": "markdown",
   "metadata": {},
   "source": [
    "# build"
   ]
  },
  {
   "cell_type": "code",
   "execution_count": null,
   "metadata": {
    "vscode": {
     "languageId": "shellscript"
    }
   },
   "outputs": [],
   "source": [
    "docker build --no-cache --tag alpine-firefox:latest  -f Dockerfile_alpine_firefox \".\"\n",
    "docker build  --tag alpine-firefox-rust:latest  -f Dockerfile_alpine_firefox_rust \".\"\n",
    "# --progress=plain\n",
    "docker build  --progress=plain --tag alpine-firefox-rust:latest  -f Dockerfile_alpine_firefox_rust \".\""
   ]
  },
  {
   "cell_type": "markdown",
   "metadata": {},
   "source": [
    "# run"
   ]
  },
  {
   "cell_type": "code",
   "execution_count": null,
   "metadata": {
    "vscode": {
     "languageId": "shellscript"
    }
   },
   "outputs": [],
   "source": [
    "docker run --rm -it alpine-firefox:latest"
   ]
  },
  {
   "cell_type": "markdown",
   "metadata": {},
   "source": [
    "# start vncviewer"
   ]
  },
  {
   "cell_type": "code",
   "execution_count": null,
   "metadata": {
    "vscode": {
     "languageId": "shellscript"
    }
   },
   "outputs": [],
   "source": [
    "export DISPLAY=:0\n",
    "xhost +\n",
    "vncviewer $(docker inspect -f \\\n",
    "'{{range .NetworkSettings.Networks}}{{.IPAddress}}{{end}}' $(docker ps --format \"{{.ID}}\" | cut -d \" \" -f1))\n"
   ]
  },
  {
   "cell_type": "markdown",
   "metadata": {},
   "source": [
    "# install rust"
   ]
  },
  {
   "cell_type": "markdown",
   "metadata": {},
   "source": [
    "# install rust\n",
    "# FROM HERE\n",
    "# https://hub.docker.com/layers/rustlang/rust/nightly-alpine3.17/images/sha256-3ae253190c5d5bce41e4e17dc44b6fbf2c45f279be1554f676ed7ffa67baad26?context=explore\n",
    "\n",
    "ENV RUSTUP_HOME=/usr/local/rustup CARGO_HOME=/usr/local/cargo PATH=/usr/local/cargo/bin:/usr/local/sbin:/usr/local/bin:/usr/sbin:/usr/bin:/sbin:/bin\n",
    "\n",
    "RUN /bin/sh -c set -eux; \\\n",
    "    apkArch=\"$(apk --print-arch)\"; \\\n",
    "    case \"$apkArch\" in x86_64) rustArch='x86_64-unknown-linux-musl' ;; \\\n",
    "                      aarch64) rustArch='aarch64-unknown-linux-musl' ;; \\\n",
    "                      *) echo >&2 \"unsupported architecture: $apkArch\"; exit 1 ;; \\\n",
    "        esac;  && \\\n",
    "                            \n",
    "        url=\"https://static.rust-lang.org/rustup/dist/${rustArch}/rustup-init\";   && \\\n",
    "        wget \"$url\";   && \\\n",
    "        chmod +x rustup-init;   && \\\n",
    "        /rustup-init -y --no-modify-path --default-toolchain nightly;  && \\\n",
    "        rm rustup-init; && \\\n",
    "        chmod -R a+w $RUSTUP_HOME $CARGO_HOME;   && \\\n",
    "        rustup --version; && \\\n",
    "        cargo --version; && \\\n",
    "        rustc --version;"
   ]
  },
  {
   "cell_type": "markdown",
   "metadata": {},
   "source": [
    "#[rust dockerfile](https://github.com/rust-lang/docker-rust/blob/c9d5ef80a065e00761652951a22064f0134614aa/1.74.0/alpine3.17/Dockerfile)"
   ]
  },
  {
   "cell_type": "code",
   "execution_count": null,
   "metadata": {
    "vscode": {
     "languageId": "shellscript"
    }
   },
   "outputs": [],
   "source": [
    "# docker diff <container id>\n",
    "docker diff 8918a9963841"
   ]
  }
 ],
 "metadata": {
  "kernelspec": {
   "display_name": "Bash",
   "language": "bash",
   "name": "bash"
  },
  "language_info": {
   "codemirror_mode": "shell",
   "file_extension": ".sh",
   "mimetype": "text/x-sh",
   "name": "bash"
  }
 },
 "nbformat": 4,
 "nbformat_minor": 2
}
